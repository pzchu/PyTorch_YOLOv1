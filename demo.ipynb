{
 "cells": [
  {
   "cell_type": "code",
   "execution_count": 1,
   "metadata": {},
   "outputs": [
    {
     "name": "stdout",
     "output_type": "stream",
     "text": [
      "123\n"
     ]
    }
   ],
   "source": [
    "print(123)"
   ]
  },
  {
   "cell_type": "code",
   "execution_count": 8,
   "metadata": {},
   "outputs": [],
   "source": [
    "import torch\n",
    "import torch.nn as nn\n",
    "import torch.nn.functional as f\n",
    "\n"
   ]
  },
  {
   "cell_type": "code",
   "execution_count": null,
   "metadata": {},
   "outputs": [],
   "source": []
  },
  {
   "cell_type": "markdown",
   "metadata": {},
   "source": [
    "### 注意观察下面的代码，你的输入需要按照batch channel w h 来设置。\n",
    "- pandding=0 不是说不补，而是说你的输入输出是一致的，而当你设置padding=1的时候，那就意味着你的输出比你的输入大一圈。\n",
    "- 可以通过实验感受下。"
   ]
  },
  {
   "cell_type": "code",
   "execution_count": 26,
   "metadata": {},
   "outputs": [],
   "source": [
    "t1 = torch.rand(1,3,4,4)\n",
    "conv1 = torch.nn.Conv2d(3,2,1,1,1)\n",
    "conv1(t1),conv1.bias,conv1.weight\n",
    "None"
   ]
  },
  {
   "cell_type": "markdown",
   "metadata": {},
   "source": [
    "### 接下来我们感受下什么是BN\n",
    "- BN操作针对的是通道这个要注意，所以有个参数要设置对。\n",
    "- 直接求var的时候 要考虑有偏和无偏，什么是var的有偏估计呢？有偏分母就是n-1"
   ]
  },
  {
   "cell_type": "code",
   "execution_count": 73,
   "metadata": {},
   "outputs": [
    {
     "data": {
      "text/plain": [
       "tensor([[[[ 1.,  2.,  3.,  4.],\n",
       "          [ 5.,  6.,  7.,  8.],\n",
       "          [ 9., 10., 11., 12.]],\n",
       "\n",
       "         [[13., 14., 15., 16.],\n",
       "          [17., 18., 19., 20.],\n",
       "          [21., 22., 23., 24.]]]])"
      ]
     },
     "execution_count": 73,
     "metadata": {},
     "output_type": "execute_result"
    }
   ],
   "source": [
    "t2 = torch.arange(1,25,dtype=torch.float32)\n",
    "t3 = t2.reshape(1,2,3,4)\n",
    "t3"
   ]
  },
  {
   "cell_type": "code",
   "execution_count": 86,
   "metadata": {},
   "outputs": [
    {
     "data": {
      "text/plain": [
       "tensor([[[[-1.5933, -1.3036, -1.0139, -0.7242],\n",
       "          [-0.4345, -0.1448,  0.1448,  0.4345],\n",
       "          [ 0.7242,  1.0139,  1.3036,  1.5933]],\n",
       "\n",
       "         [[-1.5933, -1.3036, -1.0139, -0.7242],\n",
       "          [-0.4345, -0.1448,  0.1448,  0.4345],\n",
       "          [ 0.7242,  1.0139,  1.3036,  1.5933]]]],\n",
       "       grad_fn=<NativeBatchNormBackward0>)"
      ]
     },
     "execution_count": 86,
     "metadata": {},
     "output_type": "execute_result"
    }
   ],
   "source": [
    "bn = nn.BatchNorm2d(2)\n",
    "bn(t3)\n"
   ]
  },
  {
   "cell_type": "code",
   "execution_count": 87,
   "metadata": {},
   "outputs": [],
   "source": [
    "bn.running_mean, bn.running_var,bn.weight,bn.bias\n",
    "None"
   ]
  },
  {
   "cell_type": "code",
   "execution_count": 111,
   "metadata": {},
   "outputs": [
    {
     "data": {
      "text/plain": [
       "tensor(11.9167)"
      ]
     },
     "execution_count": 111,
     "metadata": {},
     "output_type": "execute_result"
    }
   ],
   "source": [
    "t = torch.arange(13,25,dtype=torch.float32)\n",
    "\n",
    "sum((t-18.5)**2) / 12"
   ]
  },
  {
   "cell_type": "code",
   "execution_count": 104,
   "metadata": {},
   "outputs": [
    {
     "data": {
      "text/plain": [
       "tensor([[[[-5.0694, -4.7797, -4.4901, -4.2004],\n",
       "          [-3.9107, -3.6210, -3.3313, -3.0417],\n",
       "          [-2.7520, -2.4623, -2.1726, -1.8829]],\n",
       "\n",
       "         [[-1.5932, -1.3036, -1.0139, -0.7242],\n",
       "          [-0.4345, -0.1448,  0.1448,  0.4345],\n",
       "          [ 0.7242,  1.0139,  1.3036,  1.5932]]]])"
      ]
     },
     "execution_count": 104,
     "metadata": {},
     "output_type": "execute_result"
    }
   ],
   "source": [
    "(t3-18.5)/(11.9167**0.5+0.00001)"
   ]
  },
  {
   "cell_type": "code",
   "execution_count": null,
   "metadata": {},
   "outputs": [],
   "source": []
  },
  {
   "cell_type": "code",
   "execution_count": null,
   "metadata": {},
   "outputs": [],
   "source": []
  }
 ],
 "metadata": {
  "kernelspec": {
   "display_name": "pytorch",
   "language": "python",
   "name": "python3"
  },
  "language_info": {
   "codemirror_mode": {
    "name": "ipython",
    "version": 3
   },
   "file_extension": ".py",
   "mimetype": "text/x-python",
   "name": "python",
   "nbconvert_exporter": "python",
   "pygments_lexer": "ipython3",
   "version": "3.11.9"
  }
 },
 "nbformat": 4,
 "nbformat_minor": 2
}
